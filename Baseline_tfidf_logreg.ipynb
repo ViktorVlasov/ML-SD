{
  "cells": [
    {
      "cell_type": "code",
      "execution_count": 4,
      "metadata": {
        "id": "U-_cGKhyyWEv"
      },
      "outputs": [],
      "source": [
        "import pandas as pd\n",
        "import numpy as np\n",
        "import json\n",
        "from clearml import Task, Logger\n",
        "\n",
        "\n",
        "from sklearn.feature_extraction.text import TfidfVectorizer\n",
        "from sklearn.linear_model import LogisticRegression\n",
        "\n",
        "SEED = 21"
      ]
    },
    {
      "cell_type": "code",
      "execution_count": 3,
      "metadata": {},
      "outputs": [
        {
          "name": "stdout",
          "output_type": "stream",
          "text": [
            "env: CLEARML_WEB_HOST=https://app.clear.ml\n",
            "env: CLEARML_API_HOST=https://api.clear.ml\n",
            "env: CLEARML_FILES_HOST=https://files.clear.ml\n",
            "env: CLEARML_API_ACCESS_KEY=X2FEZVG1P5PO793YKWK0\n",
            "env: CLEARML_API_SECRET_KEY=lzo5y1tNKBQHe7qGdfF4oEde5vhRiNGknrH2yGSx50LBkwXm3O\n"
          ]
        }
      ],
      "source": [
        "%env CLEARML_WEB_HOST=https://app.clear.ml\n",
        "%env CLEARML_API_HOST=https://api.clear.ml\n",
        "%env CLEARML_FILES_HOST=https://files.clear.ml\n",
        "# mlsd\n",
        "%env CLEARML_API_ACCESS_KEY=X2FEZVG1P5PO793YKWK0\n",
        "%env CLEARML_API_SECRET_KEY=lzo5y1tNKBQHe7qGdfF4oEde5vhRiNGknrH2yGSx50LBkwXm3O"
      ]
    },
    {
      "cell_type": "code",
      "execution_count": 5,
      "metadata": {},
      "outputs": [
        {
          "name": "stdout",
          "output_type": "stream",
          "text": [
            "ClearML Task: created new task id=2159a8990e82491d9cd9237b8d4d2be9\n",
            "ClearML results page: https://app.clear.ml/projects/922c69dbd48249b183708fef50f18e10/experiments/2159a8990e82491d9cd9237b8d4d2be9/output/log\n"
          ]
        },
        {
          "name": "stdout",
          "output_type": "stream",
          "text": [
            "ClearML Monitor: GPU monitoring failed getting GPU reading, switching off GPU monitoring\n",
            "ClearML Monitor: Could not detect iteration reporting, falling back to iterations as seconds-from-start\n"
          ]
        }
      ],
      "source": [
        "task = Task.init(\n",
        "    project_name='ML_SD', \n",
        "    task_name='test_platform', \n",
        "    tags=['logreg','tfidf'])"
      ]
    },
    {
      "cell_type": "code",
      "execution_count": 7,
      "metadata": {
        "colab": {
          "base_uri": "https://localhost:8080/",
          "height": 206
        },
        "id": "nl-HUJYzu7PL",
        "outputId": "0ce80868-e925-4817-bdcc-2c69f3a0a0b2"
      },
      "outputs": [
        {
          "data": {
            "text/plain": [
              "True"
            ]
          },
          "execution_count": 7,
          "metadata": {},
          "output_type": "execute_result"
        }
      ],
      "source": [
        "fpath = 'data/RuMedPrimeData.tsv'\n",
        "df = pd.read_csv(fpath, sep='\\t')\n",
        "task.upload_artifact(name='data.raw', artifact_object=fpath)"
      ]
    },
    {
      "cell_type": "code",
      "execution_count": 8,
      "metadata": {},
      "outputs": [
        {
          "data": {
            "text/html": [
              "<div>\n",
              "<style scoped>\n",
              "    .dataframe tbody tr th:only-of-type {\n",
              "        vertical-align: middle;\n",
              "    }\n",
              "\n",
              "    .dataframe tbody tr th {\n",
              "        vertical-align: top;\n",
              "    }\n",
              "\n",
              "    .dataframe thead th {\n",
              "        text-align: right;\n",
              "    }\n",
              "</style>\n",
              "<table border=\"1\" class=\"dataframe\">\n",
              "  <thead>\n",
              "    <tr style=\"text-align: right;\">\n",
              "      <th></th>\n",
              "      <th>symptoms</th>\n",
              "      <th>anamnesis</th>\n",
              "      <th>icd10</th>\n",
              "      <th>new_patient_id</th>\n",
              "      <th>new_event_id</th>\n",
              "      <th>new_event_time</th>\n",
              "    </tr>\n",
              "  </thead>\n",
              "  <tbody>\n",
              "    <tr>\n",
              "      <th>0</th>\n",
              "      <td>Сухость кожи, мышечная слабость, нарушение мен...</td>\n",
              "      <td>Месяц назад сильный стресс и на этом фоне появ...</td>\n",
              "      <td>E01.8</td>\n",
              "      <td>qf156c36</td>\n",
              "      <td>q5fc2cb1</td>\n",
              "      <td>2027-05-19</td>\n",
              "    </tr>\n",
              "    <tr>\n",
              "      <th>1</th>\n",
              "      <td>Жалобы ГБ: головная боль, головокружение на фо...</td>\n",
              "      <td>Начало острое, постепенное, после переохлажден...</td>\n",
              "      <td>J06.9</td>\n",
              "      <td>q9321cf8</td>\n",
              "      <td>qe173f20</td>\n",
              "      <td>2023-03-24</td>\n",
              "    </tr>\n",
              "    <tr>\n",
              "      <th>2</th>\n",
              "      <td>головная боль, озноб, насморк, легкая заложенн...</td>\n",
              "      <td>Начало острое, *ДАТА* после переохлаждения. Пр...</td>\n",
              "      <td>J00</td>\n",
              "      <td>qcbc06c5</td>\n",
              "      <td>q653efaa</td>\n",
              "      <td>2026-12-22</td>\n",
              "    </tr>\n",
              "    <tr>\n",
              "      <th>3</th>\n",
              "      <td>На изжога периодически , отрыжка воздухом, . б...</td>\n",
              "      <td>Впервые пояились вышеизложенные жалобы в течен...</td>\n",
              "      <td>K21.0</td>\n",
              "      <td>qfd53b1f</td>\n",
              "      <td>qe48681b</td>\n",
              "      <td>2026-01-15</td>\n",
              "    </tr>\n",
              "    <tr>\n",
              "      <th>4</th>\n",
              "      <td>- лабильность настроения, плаксивость.</td>\n",
              "      <td>Тиреоидэктомия в*ДАТА* по поводу МУЗ, по гисто...</td>\n",
              "      <td>E89.0</td>\n",
              "      <td>q783a54b</td>\n",
              "      <td>q4109cab</td>\n",
              "      <td>2021-05-28</td>\n",
              "    </tr>\n",
              "  </tbody>\n",
              "</table>\n",
              "</div>"
            ],
            "text/plain": [
              "                                            symptoms  \\\n",
              "0  Сухость кожи, мышечная слабость, нарушение мен...   \n",
              "1  Жалобы ГБ: головная боль, головокружение на фо...   \n",
              "2  головная боль, озноб, насморк, легкая заложенн...   \n",
              "3  На изжога периодически , отрыжка воздухом, . б...   \n",
              "4             - лабильность настроения, плаксивость.   \n",
              "\n",
              "                                           anamnesis  icd10 new_patient_id  \\\n",
              "0  Месяц назад сильный стресс и на этом фоне появ...  E01.8       qf156c36   \n",
              "1  Начало острое, постепенное, после переохлажден...  J06.9       q9321cf8   \n",
              "2  Начало острое, *ДАТА* после переохлаждения. Пр...    J00       qcbc06c5   \n",
              "3  Впервые пояились вышеизложенные жалобы в течен...  K21.0       qfd53b1f   \n",
              "4  Тиреоидэктомия в*ДАТА* по поводу МУЗ, по гисто...  E89.0       q783a54b   \n",
              "\n",
              "  new_event_id new_event_time  \n",
              "0     q5fc2cb1     2027-05-19  \n",
              "1     qe173f20     2023-03-24  \n",
              "2     q653efaa     2026-12-22  \n",
              "3     qe48681b     2026-01-15  \n",
              "4     q4109cab     2021-05-28  "
            ]
          },
          "execution_count": 8,
          "metadata": {},
          "output_type": "execute_result"
        }
      ],
      "source": [
        "df.head()"
      ]
    },
    {
      "cell_type": "markdown",
      "metadata": {
        "id": "NLo0GTnPizih"
      },
      "source": [
        "## Данные"
      ]
    },
    {
      "cell_type": "code",
      "execution_count": 9,
      "metadata": {
        "id": "SGBz2FJy1khR"
      },
      "outputs": [],
      "source": [
        "df['icd10'] = df['icd10'].apply(lambda s: s.split('.')[0])\n",
        "df = df[['symptoms', 'icd10']].reset_index(drop=True)"
      ]
    },
    {
      "cell_type": "code",
      "execution_count": 10,
      "metadata": {
        "colab": {
          "base_uri": "https://localhost:8080/",
          "height": 424
        },
        "id": "SMWivX8Yhlh4",
        "outputId": "94d95e14-3a22-4d8c-9525-4b9c84bc3aca"
      },
      "outputs": [
        {
          "data": {
            "text/html": [
              "<div>\n",
              "<style scoped>\n",
              "    .dataframe tbody tr th:only-of-type {\n",
              "        vertical-align: middle;\n",
              "    }\n",
              "\n",
              "    .dataframe tbody tr th {\n",
              "        vertical-align: top;\n",
              "    }\n",
              "\n",
              "    .dataframe thead th {\n",
              "        text-align: right;\n",
              "    }\n",
              "</style>\n",
              "<table border=\"1\" class=\"dataframe\">\n",
              "  <thead>\n",
              "    <tr style=\"text-align: right;\">\n",
              "      <th></th>\n",
              "      <th>symptoms</th>\n",
              "      <th>icd10</th>\n",
              "    </tr>\n",
              "  </thead>\n",
              "  <tbody>\n",
              "    <tr>\n",
              "      <th>0</th>\n",
              "      <td>Сухость кожи, мышечная слабость, нарушение мен...</td>\n",
              "      <td>E01</td>\n",
              "    </tr>\n",
              "    <tr>\n",
              "      <th>1</th>\n",
              "      <td>Жалобы ГБ: головная боль, головокружение на фо...</td>\n",
              "      <td>J06</td>\n",
              "    </tr>\n",
              "    <tr>\n",
              "      <th>2</th>\n",
              "      <td>головная боль, озноб, насморк, легкая заложенн...</td>\n",
              "      <td>J00</td>\n",
              "    </tr>\n",
              "    <tr>\n",
              "      <th>3</th>\n",
              "      <td>На изжога периодически , отрыжка воздухом, . б...</td>\n",
              "      <td>K21</td>\n",
              "    </tr>\n",
              "    <tr>\n",
              "      <th>4</th>\n",
              "      <td>- лабильность настроения, плаксивость.</td>\n",
              "      <td>E89</td>\n",
              "    </tr>\n",
              "    <tr>\n",
              "      <th>...</th>\n",
              "      <td>...</td>\n",
              "      <td>...</td>\n",
              "    </tr>\n",
              "    <tr>\n",
              "      <th>7620</th>\n",
              "      <td>Насморк,затек слизи по задней стенке.Высыпания...</td>\n",
              "      <td>J30</td>\n",
              "    </tr>\n",
              "    <tr>\n",
              "      <th>7621</th>\n",
              "      <td>на одышку в покое, при незначительной физическ...</td>\n",
              "      <td>J45</td>\n",
              "    </tr>\n",
              "    <tr>\n",
              "      <th>7622</th>\n",
              "      <td>на периодическую боль в поясничной области</td>\n",
              "      <td>M54</td>\n",
              "    </tr>\n",
              "    <tr>\n",
              "      <th>7623</th>\n",
              "      <td>Боли в левом плечевом суставе, усилив. в полож...</td>\n",
              "      <td>M19</td>\n",
              "    </tr>\n",
              "    <tr>\n",
              "      <th>7624</th>\n",
              "      <td>Боли в ПОП, с иррадиацией в правую боковую обл...</td>\n",
              "      <td>M42</td>\n",
              "    </tr>\n",
              "  </tbody>\n",
              "</table>\n",
              "<p>7625 rows × 2 columns</p>\n",
              "</div>"
            ],
            "text/plain": [
              "                                               symptoms icd10\n",
              "0     Сухость кожи, мышечная слабость, нарушение мен...   E01\n",
              "1     Жалобы ГБ: головная боль, головокружение на фо...   J06\n",
              "2     головная боль, озноб, насморк, легкая заложенн...   J00\n",
              "3     На изжога периодически , отрыжка воздухом, . б...   K21\n",
              "4                - лабильность настроения, плаксивость.   E89\n",
              "...                                                 ...   ...\n",
              "7620  Насморк,затек слизи по задней стенке.Высыпания...   J30\n",
              "7621  на одышку в покое, при незначительной физическ...   J45\n",
              "7622         на периодическую боль в поясничной области   M54\n",
              "7623  Боли в левом плечевом суставе, усилив. в полож...   M19\n",
              "7624  Боли в ПОП, с иррадиацией в правую боковую обл...   M42\n",
              "\n",
              "[7625 rows x 2 columns]"
            ]
          },
          "execution_count": 10,
          "metadata": {},
          "output_type": "execute_result"
        }
      ],
      "source": [
        "df"
      ]
    },
    {
      "cell_type": "code",
      "execution_count": 11,
      "metadata": {
        "id": "86JX5wuixxQ6"
      },
      "outputs": [],
      "source": [
        "parts = np.split(df.sample(frac=1, random_state=SEED), [int(0.735*len(df)), int(0.8675*len(df))])"
      ]
    },
    {
      "cell_type": "code",
      "execution_count": 12,
      "metadata": {
        "id": "_pZxWJRM5Aqw"
      },
      "outputs": [],
      "source": [
        "train_data = parts[0]\n",
        "dev_data = parts[1]\n",
        "test_data = parts[2]"
      ]
    },
    {
      "cell_type": "code",
      "execution_count": 13,
      "metadata": {},
      "outputs": [
        {
          "data": {
            "text/plain": [
              "True"
            ]
          },
          "execution_count": 13,
          "metadata": {},
          "output_type": "execute_result"
        }
      ],
      "source": [
        "task.upload_artifact(name='data.train', artifact_object=train_data)\n",
        "task.upload_artifact(name='data.val', artifact_object=dev_data)\n",
        "task.upload_artifact(name='data.test', artifact_object=test_data)"
      ]
    },
    {
      "cell_type": "code",
      "execution_count": 14,
      "metadata": {
        "id": "ecvdw5nV47Go"
      },
      "outputs": [],
      "source": [
        "icd_freq = (train_data['icd10'].value_counts() > 10)\n",
        "labels = [k for k, v in dict(icd_freq).items() if v]"
      ]
    },
    {
      "cell_type": "code",
      "execution_count": 15,
      "metadata": {
        "id": "nDwvPhC96jTy"
      },
      "outputs": [],
      "source": [
        "train_data = train_data[train_data['icd10'].isin(labels)]\n",
        "dev_data = dev_data[dev_data['icd10'].isin(labels)]\n",
        "test_data = test_data[test_data['icd10'].isin(labels)]"
      ]
    },
    {
      "cell_type": "code",
      "execution_count": 16,
      "metadata": {},
      "outputs": [
        {
          "data": {
            "text/plain": [
              "True"
            ]
          },
          "execution_count": 16,
          "metadata": {},
          "output_type": "execute_result"
        }
      ],
      "source": [
        "task.upload_artifact(name='data.train', artifact_object=train_data)\n",
        "task.upload_artifact(name='data.val', artifact_object=dev_data)\n",
        "task.upload_artifact(name='data.test', artifact_object=test_data)"
      ]
    },
    {
      "cell_type": "code",
      "execution_count": null,
      "metadata": {
        "id": "k6gb0umYxyhH"
      },
      "outputs": [],
      "source": [
        "# df_list = [train_data, dev_data, test_data]\n",
        "# for i in range(0, 3):\n",
        "#     print(df_list[i].shape)\n",
        "#     print(df_list[i]['icd10'].value_counts())"
      ]
    },
    {
      "cell_type": "markdown",
      "metadata": {
        "id": "OyV8gRwc7lv-"
      },
      "source": [
        "## TFIDF и LogReg"
      ]
    },
    {
      "cell_type": "code",
      "execution_count": 17,
      "metadata": {
        "id": "ASJic7Gx7942"
      },
      "outputs": [],
      "source": [
        "def hit_at_n(y_true, y_pred, n=3):\n",
        "    assert len(y_true) == len(y_pred)\n",
        "    hit_count = 0\n",
        "    for l, row in zip(y_true, y_pred):\n",
        "        order = (np.argsort(row)[::-1])[:n]\n",
        "        hit_count += int(l in order)\n",
        "    return round(hit_count / float(len(y_true)) * 100, 2)\n",
        "\n",
        "\n",
        "def encode_text(tfidf, text_data, labels, l2i, mode='train'):\n",
        "    if mode == 'train':\n",
        "        X = tfidf.fit_transform(text_data)\n",
        "    else:\n",
        "        X = tfidf.transform(text_data)\n",
        "    y = labels.map(l2i)\n",
        "    return X, y\n",
        "\n",
        "\n",
        "def logits2codes(logits, i2l, n=3):\n",
        "    codes = []\n",
        "    for row in logits:\n",
        "        order = np.argsort(row)[::-1]\n",
        "        codes.append([i2l[i] for i in order[:n]])\n",
        "    return codes"
      ]
    },
    {
      "cell_type": "code",
      "execution_count": 18,
      "metadata": {
        "id": "dDZ4h9E383V9"
      },
      "outputs": [],
      "source": [
        "text_id = 'symptoms'\n",
        "label_id = 'icd10' \n",
        "index_id = 'idx'\n",
        "\n",
        "i2l = dict(enumerate(sorted(train_data[label_id].unique())))\n",
        "l2i = {label: i for i, label in i2l.items()}"
      ]
    },
    {
      "cell_type": "code",
      "execution_count": 19,
      "metadata": {
        "id": "zi1AKIzZ9Izs"
      },
      "outputs": [],
      "source": [
        "tfidf = TfidfVectorizer(analyzer='char', ngram_range=(3, 8))\n",
        "clf = LogisticRegression(penalty='l2', C=10, multi_class='ovr', n_jobs=10, verbose=1)\n",
        "\n",
        "X, y = encode_text(tfidf, train_data[text_id], train_data[label_id], l2i)"
      ]
    },
    {
      "cell_type": "code",
      "execution_count": null,
      "metadata": {
        "id": "CcmST_6jDNiG"
      },
      "outputs": [],
      "source": [
        "# print(X.shape)\n",
        "# print(tfidf.get_feature_names_out()[::2000])"
      ]
    },
    {
      "cell_type": "code",
      "execution_count": null,
      "metadata": {
        "colab": {
          "base_uri": "https://localhost:8080/"
        },
        "id": "Nq6021dH-CEr",
        "outputId": "bde9c4d7-f715-4afb-a8e9-ad9ebbea106f"
      },
      "outputs": [],
      "source": [
        "clf.fit(X, y)"
      ]
    },
    {
      "cell_type": "code",
      "execution_count": 21,
      "metadata": {
        "colab": {
          "base_uri": "https://localhost:8080/"
        },
        "id": "3jMPS2Qd-KWk",
        "outputId": "f4403484-81b0-4ccf-ea16-e7350b683594"
      },
      "outputs": [
        {
          "name": "stdout",
          "output_type": "stream",
          "text": [
            "\n",
            "scores on dev set: 49.04 / 74.4\n"
          ]
        }
      ],
      "source": [
        "X_val, y_val = encode_text(tfidf, dev_data[text_id], dev_data[label_id], l2i, mode='val')\n",
        "y_val_pred = clf.predict_proba(X_val)\n",
        "\n",
        "accuracy = hit_at_n(y_val, y_val_pred, n=1)\n",
        "hit_3 = hit_at_n(y_val, y_val_pred, n=3)\n",
        "print (f'\\nscores on dev set: {accuracy} / {hit_3}')"
      ]
    },
    {
      "cell_type": "code",
      "execution_count": null,
      "metadata": {
        "colab": {
          "base_uri": "https://localhost:8080/"
        },
        "id": "UTKyQ7mFAPcy",
        "outputId": "4c7828cb-e86e-47c2-ba71-1babcf7c9e7d"
      },
      "outputs": [
        {
          "name": "stdout",
          "output_type": "stream",
          "text": [
            "\n",
            "scores on test set: 49.29 / 73.94\n"
          ]
        }
      ],
      "source": [
        "X_test, _ = encode_text(tfidf, test_data[text_id], test_data[label_id], l2i, mode='test')\n",
        "y_test_pred = clf.predict_proba(X_test)\n",
        "\n",
        "accuracy = hit_at_n(_, y_test_pred, n=1)\n",
        "hit_3 = hit_at_n(_, y_test_pred, n=3)\n",
        "print (f'\\nscores on test set: {accuracy} / {hit_3}')\n",
        "\n",
        "test_codes = logits2codes(y_test_pred, i2l)\n",
        "\n",
        "recs = []\n",
        "for true, pred in zip(test_data[label_id], test_codes):\n",
        "    recs.append({label_id: true, 'prediction': pred})"
      ]
    },
    {
      "cell_type": "code",
      "execution_count": null,
      "metadata": {
        "id": "S_04LTdq7vBe"
      },
      "outputs": [],
      "source": [
        "out_fname = 'results.jsonl'\n",
        "with open(out_fname, 'w') as fw:\n",
        "    for rec in recs:\n",
        "        json.dump(rec, fw, ensure_ascii=False)\n",
        "        fw.write('\\n')"
      ]
    },
    {
      "cell_type": "code",
      "execution_count": null,
      "metadata": {
        "id": "SnsxdEbkiuvq"
      },
      "outputs": [],
      "source": []
    }
  ],
  "metadata": {
    "colab": {
      "provenance": []
    },
    "kernelspec": {
      "display_name": "Python 3.10.6 ('env_mlsd')",
      "language": "python",
      "name": "python3"
    },
    "language_info": {
      "codemirror_mode": {
        "name": "ipython",
        "version": 3
      },
      "file_extension": ".py",
      "mimetype": "text/x-python",
      "name": "python",
      "nbconvert_exporter": "python",
      "pygments_lexer": "ipython3",
      "version": "3.10.6"
    },
    "vscode": {
      "interpreter": {
        "hash": "84822de2c0457a7156d26795b68ca0cdf6ae84c4c3d62a468372dc9309dbe30a"
      }
    }
  },
  "nbformat": 4,
  "nbformat_minor": 0
}
